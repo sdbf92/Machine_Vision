{
 "cells": [
  {
   "cell_type": "markdown",
   "metadata": {},
   "source": [
    "# Image Proceesing"
   ]
  },
  {
   "cell_type": "markdown",
   "metadata": {},
   "source": [
    "### Read and Display a Single Image\n",
    "\n",
    "\n",
    "In this seminar class, I will show you how to read, display, and write images using matplotlib and OpenCV's built-in functions.\n",
    "\n",
    "We will use:\n",
    "\n",
    "##### cv2.imread() to load an image from disk.\n",
    "##### plt.imshow() to display an image.\n",
    "##### cv2.imwrite() to write an image to disk."
   ]
  },
  {
   "cell_type": "code",
   "execution_count": 1,
   "metadata": {},
   "outputs": [
    {
     "ename": "ModuleNotFoundError",
     "evalue": "No module named 'cv2'",
     "output_type": "error",
     "traceback": [
      "\u001b[1;31m---------------------------------------------------------------------------\u001b[0m",
      "\u001b[1;31mModuleNotFoundError\u001b[0m                       Traceback (most recent call last)",
      "\u001b[1;32m~\\AppData\\Local\\Temp\\ipykernel_15716\\1826200665.py\u001b[0m in \u001b[0;36m<module>\u001b[1;34m\u001b[0m\n\u001b[1;32m----> 1\u001b[1;33m \u001b[1;32mimport\u001b[0m \u001b[0mcv2\u001b[0m \u001b[1;31m# This library is used to read the image and perform basic operations.\u001b[0m\u001b[1;33m\u001b[0m\u001b[1;33m\u001b[0m\u001b[0m\n\u001b[0m\u001b[0;32m      2\u001b[0m \u001b[1;32mimport\u001b[0m \u001b[0mmatplotlib\u001b[0m\u001b[1;33m.\u001b[0m\u001b[0mpyplot\u001b[0m \u001b[1;32mas\u001b[0m \u001b[0mplt\u001b[0m \u001b[1;31m# This library is used to display a plot of the image.\u001b[0m\u001b[1;33m\u001b[0m\u001b[1;33m\u001b[0m\u001b[0m\n\u001b[0;32m      3\u001b[0m \u001b[1;33m\u001b[0m\u001b[0m\n",
      "\u001b[1;31mModuleNotFoundError\u001b[0m: No module named 'cv2'"
     ]
    }
   ],
   "source": [
    "import cv2 # This library is used to read the image and perform basic operations.\n",
    "import matplotlib.pyplot as plt # This library is used to display a plot of the image.\n",
    "\n"
   ]
  },
  {
   "cell_type": "code",
   "execution_count": 2,
   "metadata": {},
   "outputs": [
    {
     "ename": "NameError",
     "evalue": "name 'cv2' is not defined",
     "output_type": "error",
     "traceback": [
      "\u001b[1;31m---------------------------------------------------------------------------\u001b[0m",
      "\u001b[1;31mNameError\u001b[0m                                 Traceback (most recent call last)",
      "\u001b[1;32m~\\AppData\\Local\\Temp\\ipykernel_15716\\1986678471.py\u001b[0m in \u001b[0;36m<module>\u001b[1;34m\u001b[0m\n\u001b[0;32m      4\u001b[0m \u001b[1;33m\u001b[0m\u001b[0m\n\u001b[0;32m      5\u001b[0m \u001b[1;31m########### Load an image using 'cv2.imread()'\u001b[0m\u001b[1;33m\u001b[0m\u001b[1;33m\u001b[0m\u001b[1;33m\u001b[0m\u001b[0m\n\u001b[1;32m----> 6\u001b[1;33m \u001b[0mimage\u001b[0m \u001b[1;33m=\u001b[0m \u001b[0mcv2\u001b[0m\u001b[1;33m.\u001b[0m\u001b[0mimread\u001b[0m\u001b[1;33m(\u001b[0m\u001b[0mimage_path\u001b[0m\u001b[1;33m)\u001b[0m\u001b[1;33m\u001b[0m\u001b[1;33m\u001b[0m\u001b[0m\n\u001b[0m",
      "\u001b[1;31mNameError\u001b[0m: name 'cv2' is not defined"
     ]
    }
   ],
   "source": [
    "########### specify the path to the image\n",
    "image_path = r'E:\\MV\\d2.png'\n",
    "\n",
    "\n",
    "########### Load an image using 'cv2.imread()'\n",
    "image = cv2.imread(image_path)\n"
   ]
  },
  {
   "cell_type": "code",
   "execution_count": 1,
   "metadata": {},
   "outputs": [
    {
     "ename": "NameError",
     "evalue": "name 'plt' is not defined",
     "output_type": "error",
     "traceback": [
      "\u001b[1;31m---------------------------------------------------------------------------\u001b[0m",
      "\u001b[1;31mNameError\u001b[0m                                 Traceback (most recent call last)",
      "\u001b[1;32m~\\AppData\\Local\\Temp\\ipykernel_9932\\3623415732.py\u001b[0m in \u001b[0;36m<module>\u001b[1;34m\u001b[0m\n\u001b[0;32m      2\u001b[0m \u001b[1;33m\u001b[0m\u001b[0m\n\u001b[0;32m      3\u001b[0m \u001b[1;31m# \"Write the code in this block\"\u001b[0m\u001b[1;33m\u001b[0m\u001b[1;33m\u001b[0m\u001b[1;33m\u001b[0m\u001b[0m\n\u001b[1;32m----> 4\u001b[1;33m \u001b[0mplt\u001b[0m\u001b[1;33m.\u001b[0m\u001b[0mimshow\u001b[0m\u001b[1;33m(\u001b[0m\u001b[0mcv2\u001b[0m\u001b[1;33m.\u001b[0m\u001b[0mcvtColor\u001b[0m\u001b[1;33m(\u001b[0m\u001b[0mimage\u001b[0m\u001b[1;33m,\u001b[0m\u001b[0mCV2\u001b[0m\u001b[1;33m.\u001b[0m\u001b[0mCOLOR_BGRRGB\u001b[0m\u001b[1;33m)\u001b[0m\u001b[1;33m)\u001b[0m\u001b[1;33m\u001b[0m\u001b[1;33m\u001b[0m\u001b[0m\n\u001b[0m\u001b[0;32m      5\u001b[0m \u001b[0mplt\u001b[0m\u001b[1;33m.\u001b[0m\u001b[0mtitle\u001b[0m\u001b[1;33m(\u001b[0m\u001b[1;34m'BGR Image'\u001b[0m\u001b[1;33m)\u001b[0m\u001b[1;33m\u001b[0m\u001b[1;33m\u001b[0m\u001b[0m\n\u001b[0;32m      6\u001b[0m \u001b[0mplt\u001b[0m\u001b[1;33m.\u001b[0m\u001b[0maxis\u001b[0m\u001b[1;33m(\u001b[0m\u001b[1;34m'off'\u001b[0m\u001b[1;33m)\u001b[0m\u001b[1;33m\u001b[0m\u001b[1;33m\u001b[0m\u001b[0m\n",
      "\u001b[1;31mNameError\u001b[0m: name 'plt' is not defined"
     ]
    }
   ],
   "source": [
    "########## Display the image using 'plt.imshow()' in BGR. Give a title to the image and turn off the axis.\n",
    "\n",
    "# \"Write the code in this block\"\n",
    "plt.imshow(cv2.cvtColor(image,CV2.COLOR_BGRRGB))\n",
    "plt.title('BGR Image')\n",
    "plt.axis('off')\n",
    "plt.show()\n",
    "\n",
    "# \"Write the code in this block\""
   ]
  },
  {
   "cell_type": "code",
   "execution_count": null,
   "metadata": {},
   "outputs": [],
   "source": [
    "########## Display the image using 'plt.imshow()' in RGB. Give a title to the image and turn off the axis.\n",
    "\n",
    "# \"Write the code in this block\"\n",
    "\n",
    "\n",
    "\n",
    "# \"Write the code in this block\""
   ]
  },
  {
   "cell_type": "markdown",
   "metadata": {},
   "source": [
    "### Saving a Single image in the current working directory"
   ]
  },
  {
   "cell_type": "code",
   "execution_count": 4,
   "metadata": {},
   "outputs": [
    {
     "ename": "NameError",
     "evalue": "name 'cv2' is not defined",
     "output_type": "error",
     "traceback": [
      "\u001b[1;31m---------------------------------------------------------------------------\u001b[0m",
      "\u001b[1;31mNameError\u001b[0m                                 Traceback (most recent call last)",
      "\u001b[1;32m~\\AppData\\Local\\Temp\\ipykernel_12064\\1418402631.py\u001b[0m in \u001b[0;36m<module>\u001b[1;34m\u001b[0m\n\u001b[0;32m      1\u001b[0m \u001b[1;31m######### Save the image with a desired format using 'cv2.imwrite' (eg, .png)\u001b[0m\u001b[1;33m\u001b[0m\u001b[1;33m\u001b[0m\u001b[1;33m\u001b[0m\u001b[0m\n\u001b[1;32m----> 2\u001b[1;33m \u001b[0mcv2\u001b[0m\u001b[1;33m.\u001b[0m\u001b[0mimwrite\u001b[0m\u001b[1;33m(\u001b[0m\u001b[1;34m'Doggy.png'\u001b[0m\u001b[1;33m,\u001b[0m \u001b[0mimage\u001b[0m\u001b[1;33m)\u001b[0m\u001b[1;33m\u001b[0m\u001b[1;33m\u001b[0m\u001b[0m\n\u001b[0m\u001b[0;32m      3\u001b[0m \u001b[1;33m\u001b[0m\u001b[0m\n\u001b[0;32m      4\u001b[0m \u001b[1;31m#\"Write the code here\"\u001b[0m\u001b[1;33m\u001b[0m\u001b[1;33m\u001b[0m\u001b[1;33m\u001b[0m\u001b[0m\n",
      "\u001b[1;31mNameError\u001b[0m: name 'cv2' is not defined"
     ]
    }
   ],
   "source": [
    "######### Save the image with a desired format using 'cv2.imwrite' (eg, .png)\n",
    "cv2.imwrite('Doggy.png', image)\n",
    "\n",
    "#\"Write the code here\"\n"
   ]
  },
  {
   "cell_type": "markdown",
   "metadata": {},
   "source": [
    "### Saving the Image to a Different Directory"
   ]
  },
  {
   "cell_type": "code",
   "execution_count": null,
   "metadata": {},
   "outputs": [],
   "source": [
    "###### Specify the destination folder with a desired format(eg, tes.png) and Save the image  using 'cv2.imwrite()'\n",
    "\n",
    "dest =r'put the destination path here'\n",
    "\n",
    "#\"Write the code here to save the image\""
   ]
  },
  {
   "cell_type": "markdown",
   "metadata": {},
   "source": [
    "### Read, Rename, Resize, Display and Save a Single Image\n",
    "#### Here, we rename and resize the loaded image using OpenCV's `cv2.resize()` function and then display and save the  image using`plt.imshow()` and  `cv2.imwrite()`. The resized image is saved with a new filename to the specified output directory."
   ]
  },
  {
   "cell_type": "code",
   "execution_count": null,
   "metadata": {},
   "outputs": [],
   "source": [
    "##### Print the image dimension using f'string. (# f'sting helps us customize our print statement')\n",
    "print(f'the dimension of the image is{image.shape}') "
   ]
  },
  {
   "cell_type": "code",
   "execution_count": null,
   "metadata": {},
   "outputs": [],
   "source": [
    "import os\n",
    "\n",
    "####### Specify the image path\n",
    "image_path = r'E:\\MV\\d2.png'\n",
    "\n",
    "\n",
    "####### Read the image using 'cv2.imread()'\n",
    "image =  cv2.imread(image_path)\n",
    "\n",
    "\n",
    "####### Resize the image to (224,224) using 'cv2.resize()'\n",
    "resized_image = \n",
    "\n",
    "\n",
    "########## Display the image using 'plt.imshow()' in BGR. Give a title to the image and turn off the axis.\n",
    "\n",
    "# \"Write the code in this block\"\n",
    "\n",
    "\n",
    "\n",
    "# \"Write the code in this block\""
   ]
  },
  {
   "cell_type": "code",
   "execution_count": null,
   "metadata": {},
   "outputs": [],
   "source": [
    "##### Print the image dimension using f'string. (# f'sting helps us customize our print statement')\n",
    "print('write the code here')"
   ]
  },
  {
   "cell_type": "code",
   "execution_count": null,
   "metadata": {},
   "outputs": [],
   "source": [
    "###### Specify the destination folder and Rename the single image #####\n",
    "dest =r'put the destination path here'\n",
    "\n",
    "\n",
    "###### Save the resized image to the destination folder using 'cv2.imwrite'#############\n",
    "\n",
    "#\"Write the code here to save the image\""
   ]
  },
  {
   "cell_type": "markdown",
   "metadata": {},
   "source": [
    "### Image Color Channel Conversion\n",
    "\n",
    "#### This step involves converting the loaded image from color (RGB) to grayscale using OpenCV's `cv2.cvtColor()` function. The converted grayscale image is then displayed using Matplotlib."
   ]
  },
  {
   "cell_type": "code",
   "execution_count": null,
   "metadata": {},
   "outputs": [],
   "source": [
    "#### Convert color channels from RGB to grayscale (cv2.COLOR_BGR2GRAY) using 'cv2.cvtColor()'\n",
    "gray_image = cv2.cvtColor(image, cv2.COLOR_RGB2GRAY)\n",
    "\n",
    "\n",
    "\n",
    "########## Display the converted image using 'plt.imshow()' in grayscale (cmap='gray'). Give a title to the image and turn off the axis.\n",
    "\n",
    "# \"Write the code in this block\"\n",
    "plt.imshow(cv2.cvtColor(image,CV2.COLOR_BGRRGB))\n",
    "plt.title('BGR Image')\n",
    "plt.axis('off')\n",
    "plt.show()\n",
    "\n",
    "\n",
    "# \"Write the code in this block\""
   ]
  },
  {
   "cell_type": "markdown",
   "metadata": {},
   "source": [
    "### Image Edge Extraction\n",
    "\n",
    "#### This step involves extracting the edges of the converted image from color (RGB) to grayscale using OpenCV's `cv2.Canny()` function. The edge extracted grayscale image is then displayed using Matplotlib 'plt.inshow()'."
   ]
  },
  {
   "cell_type": "code",
   "execution_count": null,
   "metadata": {},
   "outputs": [],
   "source": [
    "# Apply canny edge detection on the grayscale image to extract the edges by assigning 80 and 100 to threshold 1 and 2 \n",
    "edges = #\"Write the code here to apply canny edge detection\"\n",
    "\n",
    "\n",
    "\n",
    "########## Display the edge detected image using 'plt.imshow()' in grayscale (cmap='gray'). \n",
    "#######Give a title to the image and turn off the axis.\n",
    "\n",
    "# \"Write the code in this block\"\n",
    "\n",
    "\n",
    "\n",
    "# \"Write the code in this block\"\n"
   ]
  },
  {
   "cell_type": "markdown",
   "metadata": {},
   "source": [
    "### Contrast Limited Adaptive Histogram Equalization\n",
    "\n",
    "#### This step involves contrast enhancement of the converted image from color (RGB) to grayscale using OpenCV's `cv2.createCLAHE()` function create the contrast enhancement and using `clahe.apply()` function to apply the created contrast enhancement on the image. The contrast enhanced image is then displayed using Matplotlib 'plt.inshow()'."
   ]
  },
  {
   "cell_type": "code",
   "execution_count": null,
   "metadata": {},
   "outputs": [],
   "source": [
    "# Create the contrast enhancement (CLAHE) using 'cv2.createClahe' with a clipLimit of 9 and tileGridSize of 10x10 \n",
    "clahe = cv2.createCLAHE(9, (10,10))\n",
    "\n",
    "# Apply the created CLAHE on the image using 'clahe.apply'\n",
    "new_clahe = clahe.apply(gray.image)\n",
    "\n",
    "########## Display the contrast image using 'plt.imshow()' in grayscale (cmap='gray'). \n",
    "##########Give a title to the image and turn off the axis.\n",
    "\n",
    "# \"Write the code in this block\"\n",
    "plt.imshow(cv2.cvtColor(image, CV2.COLOR_BGRRGB))\n",
    "plt.title('BGR Image')\n",
    "plt.axis('off')\n",
    "plt.show()\n",
    "\n",
    "\n",
    "# \"Write the code in this block\""
   ]
  },
  {
   "cell_type": "markdown",
   "metadata": {},
   "source": [
    "### Read, Resize, Rename, and Save Multiple Image\n",
    "\n",
    "Here, we will create a 'for-loop' and use the 'glob' library to read all the images in the directory"
   ]
  },
  {
   "cell_type": "code",
   "execution_count": null,
   "metadata": {},
   "outputs": [],
   "source": [
    "## import libraries\n",
    "import glob"
   ]
  },
  {
   "cell_type": "code",
   "execution_count": null,
   "metadata": {},
   "outputs": [],
   "source": [
    "####### Specify the image path and destination path \n",
    "img_path = r'put the image path here''\n",
    "des_path = r'put the destination path here'"
   ]
  },
  {
   "cell_type": "code",
   "execution_count": null,
   "metadata": {},
   "outputs": [],
   "source": [
    "##### perform a loop to iterate through the images in the image path using 'glob.glob()' function ############\n",
    "\n",
    "i=1\n",
    "for img in glob.glob(img_path+'/*.*'):\n",
    "    try:\n",
    "        #### Read the image using 'cv2.imread()'\n",
    "        image = #\"Write the code here to read the image\"\n",
    "        \n",
    "        \n",
    "        #### Resize the image to (100,100) using 'cv2.resize'\n",
    "        img_resize = #\"Write the code here to resize the images\"\n",
    "        \n",
    "        \n",
    "        #### change the current working directory to the destination directory\n",
    "        os.chdir(des_path)\n",
    "        \n",
    "        \n",
    "        #### Rename the images by iterating through the image folder\n",
    "        filename= #\"Write the code here rename the images\" \n",
    "        \n",
    "        \n",
    "        #### save the resized images to the destination folder using 'cv2.imwrite()' function\n",
    "        \n",
    "        #\"Write the code here to save the resized images\"\n",
    "        \n",
    "        i+=1 # this line performs the operation of saving the images incrementally iteratively\n",
    "    except:\n",
    "        print('Operation not executed') # this returns a custom error message if anything goes wrong"
   ]
  },
  {
   "cell_type": "markdown",
   "metadata": {},
   "source": [
    "### Covert Multiple RGB Images to Grayscale¶"
   ]
  },
  {
   "cell_type": "code",
   "execution_count": null,
   "metadata": {},
   "outputs": [],
   "source": [
    "####### Specify the image path and destination path \n",
    "img_path = r'put the image path here''\n",
    "des_path = r'put the destination path here'"
   ]
  },
  {
   "cell_type": "code",
   "execution_count": null,
   "metadata": {},
   "outputs": [],
   "source": [
    "##### perform a loop to iterate through the images in path ############\n",
    "\n",
    "i=1\n",
    "for img in glob.glob(img_path+'/*.*'):# glob.glob function is used to access multiple files in a directory\n",
    "    try:\n",
    "        image =#\"Write the code here to read the image\"\n",
    "        gray = #\"Write the code here to convert BGR to gray using 'cv2.cvtColor() function'\"\n",
    "        os.chdir(des_path) #change the current working directory to the destination directory\n",
    "        filename = #\"Write the code here rename the images\" \n",
    "        #\"Write the code here to save the gray images\"\n",
    "        i+=1 # this line performs the operation of saving the images incrementally iteratively\n",
    "    except:\n",
    "        print('Operation not executed') ## this returns a custom error message if anything goes wrong"
   ]
  },
  {
   "cell_type": "markdown",
   "metadata": {},
   "source": [
    "### Edge Extraction of Multiple Images"
   ]
  },
  {
   "cell_type": "markdown",
   "metadata": {},
   "source": [
    "### Bilateral Filter\n",
    "###### d: Diameter of each pixel neighborhood. (11)\n",
    "\n",
    "###### sigmaColor: Value of \\sigma  in the color space. The greater the value, the colors farther to each other will start to get mixed. (17)\n",
    "\n",
    "###### sigmaSpace: Value of \\sigma  in the coordinate space. The greater its value, the more further pixels will mix together, given that their colors lie within the sigmaColor range. (17)"
   ]
  },
  {
   "cell_type": "code",
   "execution_count": null,
   "metadata": {},
   "outputs": [],
   "source": [
    "####### Specify the image path and destination path \n",
    "img_path = r'put the image path here''\n",
    "des_path = r'put the destination path here'"
   ]
  },
  {
   "cell_type": "code",
   "execution_count": null,
   "metadata": {},
   "outputs": [],
   "source": [
    "i=1\n",
    "for img in glob.glob(img_path+'/*.*'):# glob.glob function is used to access multiple files in a directory\n",
    "    try:\n",
    "        image = #\"Write the code here to read the image\"\n",
    "        gray = #\"Write the code here to convert BGR to gray using cv2.cvtColor()function\"\n",
    "        denoised = #\"Write the code here to denoise the gray image using 'cv2.bilateralFilter()' function\"\n",
    "        edge_img= #\"Write the code here to extract edges using cv2.Canny()\" function\n",
    "        os.chdir(des_path) #change the current working directory to the destination directory\n",
    "        filename = #\"Write the code here rename the images\"\n",
    "        #\"Write the code here to save the edged images\"\n",
    "        i+=1\n",
    "    except:\n",
    "        print('Operation not executed') ## this returns a custom error message if anything goes wrong"
   ]
  },
  {
   "cell_type": "markdown",
   "metadata": {},
   "source": [
    "### Contrast Enhancement of Multiple Images"
   ]
  },
  {
   "cell_type": "code",
   "execution_count": null,
   "metadata": {},
   "outputs": [],
   "source": [
    "import cv2\n",
    "import os\n",
    "import glob\n",
    "\n",
    "####### Specify the image path and destination path \n",
    "img_path = r'put the image path here'\n",
    "des_path = r'put the destination path here'"
   ]
  },
  {
   "cell_type": "code",
   "execution_count": null,
   "metadata": {},
   "outputs": [],
   "source": [
    "i=1\n",
    "for img in glob.glob(img_path+'/*.*'):\n",
    "    try:\n",
    "        image = #\"Write the code here to read the image\"\n",
    "        gray = #\"Write the code here to convert BGR to gray using cv2.cvtColor()function\"\n",
    "        clahe = #\"Write the code here to create CLAHE\"\n",
    "        new_clahe = #\"Write the code here to apply CLAHE on the gray images\"\n",
    "        os.chdir(des_path)\n",
    "        filename = #\"Write the code here rename the images\"\n",
    "        #\"Write the code here to save the new clahe images\"\n",
    "        i+=1\n",
    "    except:\n",
    "        print('Operation not executed')"
   ]
  },
  {
   "cell_type": "markdown",
   "metadata": {},
   "source": [
    "## Image Augmentation for a Single Image\n",
    "### For image augmentation, we use Keras' `ImageDataGenerator` to apply various transformations to the original image, such as rotation, shifting, zooming, flipping, etc. We generate multiple augmented images and save them to the output directory."
   ]
  },
  {
   "cell_type": "code",
   "execution_count": null,
   "metadata": {},
   "outputs": [],
   "source": [
    "from keras.preprocessing.image import ImageDataGenerator # import library"
   ]
  },
  {
   "cell_type": "code",
   "execution_count": null,
   "metadata": {},
   "outputs": [],
   "source": [
    "# Create an ImageDataGenerator for augmentation(this allows us to create different transformation of the image)\n",
    "datagen = ImageDataGenerator(\n",
    "    rotation_range=20,\n",
    "    width_shift_range=0.1,\n",
    "    height_shift_range=0.1,\n",
    "    shear_range=0.2,\n",
    "    zoom_range=0.2,\n",
    "    horizontal_flip=True,\n",
    "    fill_mode='nearest'\n",
    ")"
   ]
  },
  {
   "cell_type": "code",
   "execution_count": null,
   "metadata": {},
   "outputs": [],
   "source": [
    "\n",
    "# Load and preprocess the image for augmentation\n",
    "image_path = r'put the image path here'\n",
    "\n",
    "\n",
    "# Read the image using 'cv2.imread()' function\n",
    "augmentation_image = #\"Write the code here to read the image\"\n",
    "\n",
    "# convert the color map from BGR to RGB using 'cv2.cvtColor()function'\n",
    "augmentation_image = #\"Write the code here to convert the color map from BGR to RGB\""
   ]
  },
  {
   "cell_type": "code",
   "execution_count": null,
   "metadata": {},
   "outputs": [],
   "source": [
    "##### Print the image dimension using f'string. (# f'sting helps us customize our print statement')\n",
    "print('write the code here') \n"
   ]
  },
  {
   "cell_type": "code",
   "execution_count": null,
   "metadata": {},
   "outputs": [],
   "source": [
    "# reshape the image to a numpy array of Rank 4 \"(1,529,585,3)\"\n",
    "augmentation_image = #\"Write the code here to read the image\""
   ]
  },
  {
   "cell_type": "code",
   "execution_count": null,
   "metadata": {},
   "outputs": [],
   "source": [
    "##### Print the dimension of the reshaped image using f'string. (# f'sting helps us customize our print statement')\n",
    "print('write the code here')"
   ]
  },
  {
   "cell_type": "code",
   "execution_count": null,
   "metadata": {},
   "outputs": [],
   "source": [
    "# Generates augmented images using the defined ImageDataGenerator.\n",
    "augmented_images = datagen.flow(augmentation_image, batch_size=1)"
   ]
  },
  {
   "cell_type": "code",
   "execution_count": null,
   "metadata": {},
   "outputs": [],
   "source": [
    "# Generate augmented images\n",
    "augmented_images = datagen.flow(augmentation_image, batch_size=1,\n",
    "                               save_to_dir= r'D:\\OBU 2023_24 Courses\\Semester 1\\2023 Semester 1\\Semester 1\\Test_5',\n",
    "                               save_prefix= 'new',save_format='png')#Defines the output path & name for the augmented image\n"
   ]
  },
  {
   "cell_type": "code",
   "execution_count": null,
   "metadata": {},
   "outputs": [],
   "source": [
    "# Display a few augmented images\n",
    "plt.figure(figsize=(20, 10))\n",
    "for i in range(6): #Iterates to generate 6 augmented images.\n",
    "    augmented_batch = augmented_images.next() # Generates an augmented batch of images.\n",
    "    augmented_image = augmented_batch[0].astype('uint8') #Retrieves the augmented image\n",
    "    plt.subplot(1, 6, i + 1) # definds a subplot of 6\n",
    "    plt.imshow(augmented_image) # display the augmented images\n",
    "    plt.axis('off') # turns off the axis\n",
    "plt.show()\n"
   ]
  },
  {
   "cell_type": "markdown",
   "metadata": {},
   "source": [
    "### Data Augmentation of Multiple Images"
   ]
  },
  {
   "cell_type": "code",
   "execution_count": null,
   "metadata": {},
   "outputs": [],
   "source": [
    "# import libraries\n",
    "import keras\n",
    "from keras.preprocessing.image import ImageDataGenerator"
   ]
  },
  {
   "cell_type": "code",
   "execution_count": null,
   "metadata": {},
   "outputs": [],
   "source": [
    "image_generator = ImageDataGenerator(\n",
    "    rotation_range=40,\n",
    "    width_shift_range=0.2,\n",
    "    height_shift_range=0.2,\n",
    "    rescale=1./255,\n",
    "    shear_range=0.2,\n",
    "    zoom_range=0.2,\n",
    "    horizontal_flip=True,\n",
    "    fill_mode='reflect'\n",
    ")\n",
    "\n",
    "i=1\n",
    "for batch in image_generator.flow_from_directory(\n",
    "    directory=r'D:\\OBU 2023_24 Courses\\Semester 1\\2023 Semester 1\\Semester 1\\Data\\Dog_Cat_Face',\n",
    "    batch_size=8,\n",
    "    target_size=(200,200),\n",
    "    color_mode='rgb',\n",
    "    save_to_dir= r'D:\\OBU 2023_24 Courses\\Semester 1\\2023 Semester 1\\Semester 1\\Test_6',\n",
    "    save_prefix= 'new',\n",
    "    save_format='png'):\n",
    "    i+=1\n",
    "    if i>4:\n",
    "        break"
   ]
  },
  {
   "cell_type": "code",
   "execution_count": null,
   "metadata": {},
   "outputs": [],
   "source": []
  }
 ],
 "metadata": {
  "kernelspec": {
   "display_name": "Python 3 (ipykernel)",
   "language": "python",
   "name": "python3"
  },
  "language_info": {
   "codemirror_mode": {
    "name": "ipython",
    "version": 3
   },
   "file_extension": ".py",
   "mimetype": "text/x-python",
   "name": "python",
   "nbconvert_exporter": "python",
   "pygments_lexer": "ipython3",
   "version": "3.7.16"
  }
 },
 "nbformat": 4,
 "nbformat_minor": 4
}
